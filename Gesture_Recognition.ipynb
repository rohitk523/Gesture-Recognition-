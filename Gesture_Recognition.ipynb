{
 "cells": [
  {
   "cell_type": "markdown",
   "metadata": {
    "id": "MLyduZvA9Kc0"
   },
   "source": [
    "# Gesture Recognition\n",
    "In this group project, you are going to build a 3D Conv model that will be able to predict the 5 gestures correctly. Please import the following libraries to get started. Once you have completed the code you can download the notebook for making a submission."
   ]
  },
  {
   "cell_type": "code",
   "execution_count": 10,
   "metadata": {
    "executionInfo": {
     "elapsed": 1406,
     "status": "ok",
     "timestamp": 1624122039303,
     "user": {
      "displayName": "Deepak Gupta",
      "photoUrl": "https://lh3.googleusercontent.com/a-/AOh14GioGtBsnOL70sw3LSEd5KY4UjSgtKoE99G1emH6UA=s64",
      "userId": "07820557474978127910"
     },
     "user_tz": -330
    },
    "id": "BQz95XxR9Kc4"
   },
   "outputs": [],
   "source": [
    "import numpy as np\n",
    "import os\n",
    "from imageio import imread\n",
    "from skimage.transform import resize\n",
    "import datetime\n",
    "import os"
   ]
  },
  {
   "cell_type": "markdown",
   "metadata": {
    "id": "vIA-YXvY9Kc6"
   },
   "source": [
    "We set the random seed so that the results don't vary drastically."
   ]
  },
  {
   "cell_type": "code",
   "execution_count": 11,
   "metadata": {
    "executionInfo": {
     "elapsed": 2096,
     "status": "ok",
     "timestamp": 1624122049662,
     "user": {
      "displayName": "Deepak Gupta",
      "photoUrl": "https://lh3.googleusercontent.com/a-/AOh14GioGtBsnOL70sw3LSEd5KY4UjSgtKoE99G1emH6UA=s64",
      "userId": "07820557474978127910"
     },
     "user_tz": -330
    },
    "id": "eXJVORzc9Kc7"
   },
   "outputs": [],
   "source": [
    "np.random.seed(30)\n",
    "import random as rn\n",
    "rn.seed(30)\n",
    "from tensorflow import keras\n",
    "import tensorflow as tf\n",
    "tf.random.set_seed(30)"
   ]
  },
  {
   "cell_type": "markdown",
   "metadata": {
    "id": "uulz2Y6F9Kc8"
   },
   "source": [
    "In this block, you read the folder names for training and validation. You also set the `batch_size` here. Note that you set the batch size in such a way that you are able to use the GPU in full capacity. You keep increasing the batch size until the machine throws an error."
   ]
  },
  {
   "cell_type": "markdown",
   "metadata": {
    "id": "_rSS65h09Kc9"
   },
   "source": [
    "**data path: /home/datasets/Project_data**"
   ]
  },
  {
   "cell_type": "code",
   "execution_count": 14,
   "metadata": {
    "id": "ZN3raF-J9Kc9"
   },
   "outputs": [],
   "source": [
    "train_doc = np.random.permutation(open('/home/datasets/Project_data/train.csv').readlines())\n",
    "val_doc = np.random.permutation(open('/home/datasets/Project_data/val.csv').readlines())\n",
    "batch_size = 32 #experiment with the batch size"
   ]
  },
  {
   "cell_type": "markdown",
   "metadata": {
    "id": "0uwesdpk9Kc-"
   },
   "source": [
    "## Generator\n",
    "This is one of the most important part of the code. The overall structure of the generator has been given. In the generator, you are going to preprocess the images as you have images of 2 different dimensions as well as create a batch of video frames. You have to experiment with `img_idx`, `y`,`z` and normalization such that you get high accuracy."
   ]
  },
  {
   "cell_type": "code",
   "execution_count": 15,
   "metadata": {
    "colab": {
     "base_uri": "https://localhost:8080/"
    },
    "executionInfo": {
     "elapsed": 379,
     "status": "ok",
     "timestamp": 1624122601625,
     "user": {
      "displayName": "Deepak Gupta",
      "photoUrl": "https://lh3.googleusercontent.com/a-/AOh14GioGtBsnOL70sw3LSEd5KY4UjSgtKoE99G1emH6UA=s64",
      "userId": "07820557474978127910"
     },
     "user_tz": -330
    },
    "id": "Qp5x9a8rO1ZM",
    "outputId": "f751bb12-6a36-47ff-87af-9a6dad3f3c5a"
   },
   "outputs": [
    {
     "data": {
      "text/plain": [
       "17"
      ]
     },
     "execution_count": 15,
     "metadata": {},
     "output_type": "execute_result"
    }
   ],
   "source": [
    "#create a list of image numbers you want to use for a particular video\n",
    "img_idx = [0,1,3,5,7,9,11,13,14,16,18,20,22,24,26,28,29] \n",
    "num_classes = 5\n",
    "len(img_idx)"
   ]
  },
  {
   "cell_type": "code",
   "execution_count": 16,
   "metadata": {
    "executionInfo": {
     "elapsed": 377,
     "status": "ok",
     "timestamp": 1624122441976,
     "user": {
      "displayName": "Deepak Gupta",
      "photoUrl": "https://lh3.googleusercontent.com/a-/AOh14GioGtBsnOL70sw3LSEd5KY4UjSgtKoE99G1emH6UA=s64",
      "userId": "07820557474978127910"
     },
     "user_tz": -330
    },
    "id": "Q1qbDspG9Kc_"
   },
   "outputs": [],
   "source": [
    "def generator(source_path, folder_list, batch_size):\n",
    "    print( 'Source path = ', source_path, '; batch size =', batch_size)\n",
    "    # img_idx = [0,1,3,5,7,9,11,13,14,16,18,20,22,24,26,28,29]#create a list of image numbers you want to use for a particular video\n",
    "    while True:\n",
    "        t = np.random.permutation(folder_list)\n",
    "        num_batches = len(folder_list)//batch_size# calculate the number of batches\n",
    "        for batch in range(num_batches): # we iterate over the number of batches\n",
    "            batch_data = np.zeros((batch_size,len(img_idx),100,100,3)) # x is the number of images you use for each video, (y,z) is the final size of the input images and 3 is the number of channels RGB\n",
    "            batch_labels = np.zeros((batch_size,5)) # batch_labels is the one hot representation of the output\n",
    "            for folder in range(batch_size): # iterate over the batch_size\n",
    "                imgs = os.listdir(source_path+'/'+ t[folder + (batch*batch_size)].split(';')[0]) # read all the images in the folder\n",
    "                for idx,item in enumerate(img_idx): #  Iterate iver the frames/images of a folder to read them in\n",
    "                    image = imread(source_path+'/'+ t[folder + (batch*batch_size)].strip().split(';')[0]+'/'+imgs[item]).astype(np.float32)\n",
    "                    \n",
    "                    #crop the images and resize them. Note that the images are of 2 different shape \n",
    "                    #and the conv3D will throw error if the inputs in a batch have different shapes\n",
    "                    image = resize(image,(100,100,3))\n",
    "                    batch_data[folder,idx,:,:,0] = image[:,:,0]/255 #normalise and feed in the image\n",
    "                    batch_data[folder,idx,:,:,1] = image[:,:,1]/255  #normalise and feed in the image\n",
    "                    batch_data[folder,idx,:,:,2] = image[:,:,2]/255  #normalise and feed in the image\n",
    "                    \n",
    "                batch_labels[folder, int(t[folder + (batch*batch_size)].strip().split(';')[2])] = 1\n",
    "            yield batch_data, batch_labels #you yield the batch_data and the batch_labels, remember what does yield do\n",
    "# write the code for the remaining data points which are left after full batches            \n",
    "        leftoverimages = len(folder_list) % batch_size\n",
    "        if (leftoverimages != 0):\n",
    "            batch_data = np.zeros((leftoverimages,len(img_idx),100,100,3)) # x is the number of images you use for each video, (y,z) is the final size of the input images and 3 is the number of channels RGB\n",
    "            batch_labels = np.zeros((leftoverimages,5)) # batch_labels is the one hot representation of the output\n",
    "            for folder in range(leftoverimages): # iterate over the batch_size\n",
    "                imgs = os.listdir(source_path+'/'+ t[folder + (batch*leftoverimages)].split(';')[0]) # read all the images in the folder\n",
    "                for idx,item in enumerate(img_idx): #  Iterate iver the frames/images of a folder to read them in\n",
    "                    image = imread(source_path+'/'+ t[folder + (batch*leftoverimages)].strip().split(';')[0]+'/'+imgs[item]).astype(np.float32)\n",
    "                    \n",
    "                    #crop the images and resize them. Note that the images are of 2 different shape \n",
    "                    #and the conv3D will throw error if the inputs in a batch have different shapes\n",
    "                    image = resize(image,(100,100,3))\n",
    "                    batch_data[folder,idx,:,:,0] = image[:,:,0]/255 #normalise and feed in the image\n",
    "                    batch_data[folder,idx,:,:,1] = image[:,:,1]/255  #normalise and feed in the image\n",
    "                    batch_data[folder,idx,:,:,2] = image[:,:,2]/255  #normalise and feed in the image\n",
    "                    \n",
    "                batch_labels[folder, int(t[folder + (batch*leftoverimages)].strip().split(';')[2])] = 1\n",
    "            yield batch_data, batch_labels\n",
    "   "
   ]
  },
  {
   "cell_type": "markdown",
   "metadata": {
    "id": "zATsNFnA9KdA"
   },
   "source": [
    "Note here that a video is represented above in the generator as (number of images, height, width, number of channels). Take this into consideration while creating the model architecture."
   ]
  },
  {
   "cell_type": "code",
   "execution_count": 18,
   "metadata": {
    "executionInfo": {
     "elapsed": 477,
     "status": "ok",
     "timestamp": 1624122457108,
     "user": {
      "displayName": "Deepak Gupta",
      "photoUrl": "https://lh3.googleusercontent.com/a-/AOh14GioGtBsnOL70sw3LSEd5KY4UjSgtKoE99G1emH6UA=s64",
      "userId": "07820557474978127910"
     },
     "user_tz": -330
    },
    "id": "Eslsrpjr9KdB"
   },
   "outputs": [
    {
     "name": "stdout",
     "output_type": "stream",
     "text": [
      "# training sequences = 663\n",
      "# validation sequences = 100\n",
      "# epochs = 50\n",
      "# Batch Size is = 32\n"
     ]
    }
   ],
   "source": [
    "curr_dt_time = datetime.datetime.now()\n",
    "train_path = '/home/datasets/Project_data/train'\n",
    "val_path = '/home/datasets/Project_data/val'\n",
    "num_train_sequences = len(train_doc)\n",
    "print('# training sequences =', num_train_sequences)\n",
    "num_val_sequences = len(val_doc)\n",
    "print('# validation sequences =', num_val_sequences)\n",
    "num_epochs = 50 # choose the number of epochs\n",
    "print ('# epochs =', num_epochs)\n",
    "print('# Batch Size is =' , batch_size)"
   ]
  },
  {
   "cell_type": "markdown",
   "metadata": {
    "id": "wJheAE_d9KdC"
   },
   "source": [
    "## Model\n",
    "Here you make the model using different functionalities that Keras provides. Remember to use `Conv3D` and `MaxPooling3D` and not `Conv2D` and `Maxpooling2D` for a 3D convolution model. You would want to use `TimeDistributed` while building a Conv2D + RNN model. Also remember that the last layer is the softmax. Design the network in such a way that the model is able to give good accuracy on the least number of parameters so that it can fit in the memory of the webcam."
   ]
  },
  {
   "cell_type": "code",
   "execution_count": 20,
   "metadata": {},
   "outputs": [],
   "source": [
    "from tensorflow.keras.models import Sequential, Model\n",
    "from tensorflow.keras.layers import Dense, GRU, Dropout, Flatten, BatchNormalization, Activation, Conv3D, MaxPooling3D, TimeDistributed\n",
    "from tensorflow.keras.callbacks import ModelCheckpoint, ReduceLROnPlateau\n",
    "from tensorflow.keras import optimizers\n",
    "from tensorflow.keras.layers import LeakyReLU\n",
    "from tensorflow.keras.regularizers import l2\n",
    "\n",
    "#write your model here\n",
    "\n",
    "model = Sequential()\n",
    "model.add(Conv3D(32, (3, 3, 3), padding='same', activation='relu',\n",
    "                 input_shape=(len(img_idx), 100, 100, 3)))\n",
    "model.add(MaxPooling3D(pool_size=(1, 1, 2)))\n",
    "\n",
    "model.add(Conv3D(64, (3, 3, 3), padding='same', activation='relu'))\n",
    "model.add(MaxPooling3D(pool_size=(3, 3, 3)))\n",
    "model.add(Dropout(0.5))\n",
    "\n",
    "model.add(Conv3D(128, (3, 3, 3), padding='same', activation='relu'))\n",
    "model.add(MaxPooling3D(pool_size=(2, 2, 2)))\n",
    "model.add(Dropout(0.5))\n",
    "\n",
    "model.add(Flatten())\n",
    "model.add(Dropout(0.5))\n",
    "model.add(Dense(64))\n",
    "model.add(Activation('relu'))\n",
    "model.add(Dropout(0.5))\n",
    "\n",
    "model.add(Dense(num_classes))\n",
    "model.add(Activation('softmax'))"
   ]
  },
  {
   "cell_type": "markdown",
   "metadata": {
    "id": "qzXOF6909KdE"
   },
   "source": [
    "Now that you have written the model, the next step is to `compile` the model. When you print the `summary` of the model, you'll see the total number of parameters you have to train."
   ]
  },
  {
   "cell_type": "code",
   "execution_count": 21,
   "metadata": {
    "colab": {
     "base_uri": "https://localhost:8080/"
    },
    "executionInfo": {
     "elapsed": 9,
     "status": "ok",
     "timestamp": 1624122836640,
     "user": {
      "displayName": "Deepak Gupta",
      "photoUrl": "https://lh3.googleusercontent.com/a-/AOh14GioGtBsnOL70sw3LSEd5KY4UjSgtKoE99G1emH6UA=s64",
      "userId": "07820557474978127910"
     },
     "user_tz": -330
    },
    "id": "_v90-M789KdG",
    "outputId": "a737492f-41fb-4099-a7c4-f1abb4b00bb5",
    "scrolled": true
   },
   "outputs": [
    {
     "name": "stdout",
     "output_type": "stream",
     "text": [
      "Model: \"sequential\"\n",
      "_________________________________________________________________\n",
      "Layer (type)                 Output Shape              Param #   \n",
      "=================================================================\n",
      "conv3d (Conv3D)              (None, 17, 100, 100, 32)  2624      \n",
      "_________________________________________________________________\n",
      "max_pooling3d (MaxPooling3D) (None, 17, 100, 50, 32)   0         \n",
      "_________________________________________________________________\n",
      "conv3d_1 (Conv3D)            (None, 17, 100, 50, 64)   55360     \n",
      "_________________________________________________________________\n",
      "max_pooling3d_1 (MaxPooling3 (None, 5, 33, 16, 64)     0         \n",
      "_________________________________________________________________\n",
      "dropout (Dropout)            (None, 5, 33, 16, 64)     0         \n",
      "_________________________________________________________________\n",
      "conv3d_2 (Conv3D)            (None, 5, 33, 16, 128)    221312    \n",
      "_________________________________________________________________\n",
      "max_pooling3d_2 (MaxPooling3 (None, 2, 16, 8, 128)     0         \n",
      "_________________________________________________________________\n",
      "dropout_1 (Dropout)          (None, 2, 16, 8, 128)     0         \n",
      "_________________________________________________________________\n",
      "flatten (Flatten)            (None, 32768)             0         \n",
      "_________________________________________________________________\n",
      "dropout_2 (Dropout)          (None, 32768)             0         \n",
      "_________________________________________________________________\n",
      "dense (Dense)                (None, 64)                2097216   \n",
      "_________________________________________________________________\n",
      "activation (Activation)      (None, 64)                0         \n",
      "_________________________________________________________________\n",
      "dropout_3 (Dropout)          (None, 64)                0         \n",
      "_________________________________________________________________\n",
      "dense_1 (Dense)              (None, 5)                 325       \n",
      "_________________________________________________________________\n",
      "activation_1 (Activation)    (None, 5)                 0         \n",
      "=================================================================\n",
      "Total params: 2,376,837\n",
      "Trainable params: 2,376,837\n",
      "Non-trainable params: 0\n",
      "_________________________________________________________________\n",
      "None\n"
     ]
    }
   ],
   "source": [
    "optimiser = 'ADAM' #write your optimizer\n",
    "model.compile(optimizer=optimiser, loss='categorical_crossentropy', metrics=['categorical_accuracy'])\n",
    "print (model.summary())"
   ]
  },
  {
   "cell_type": "markdown",
   "metadata": {
    "id": "VTihZVQw9KdG"
   },
   "source": [
    "Let us create the `train_generator` and the `val_generator` which will be used in `.fit_generator`."
   ]
  },
  {
   "cell_type": "code",
   "execution_count": 22,
   "metadata": {
    "executionInfo": {
     "elapsed": 385,
     "status": "ok",
     "timestamp": 1624122850911,
     "user": {
      "displayName": "Deepak Gupta",
      "photoUrl": "https://lh3.googleusercontent.com/a-/AOh14GioGtBsnOL70sw3LSEd5KY4UjSgtKoE99G1emH6UA=s64",
      "userId": "07820557474978127910"
     },
     "user_tz": -330
    },
    "id": "RLHvRBvW9KdH"
   },
   "outputs": [],
   "source": [
    "train_generator = generator(train_path, train_doc, batch_size)\n",
    "val_generator = generator(val_path, val_doc, batch_size)"
   ]
  },
  {
   "cell_type": "code",
   "execution_count": 23,
   "metadata": {
    "executionInfo": {
     "elapsed": 369,
     "status": "ok",
     "timestamp": 1624122924608,
     "user": {
      "displayName": "Deepak Gupta",
      "photoUrl": "https://lh3.googleusercontent.com/a-/AOh14GioGtBsnOL70sw3LSEd5KY4UjSgtKoE99G1emH6UA=s64",
      "userId": "07820557474978127910"
     },
     "user_tz": -330
    },
    "id": "EnWgB6iU9KdJ"
   },
   "outputs": [],
   "source": [
    "model_name = 'model_init' + '_' + str(curr_dt_time).replace(' ','').replace(':','_') + '/'\n",
    "    \n",
    "if not os.path.exists(model_name):\n",
    "    os.mkdir(model_name)\n",
    "        \n",
    "# filepath = model_name + 'model-{epoch:05d}-{loss:.5f}-{categorical_accuracy:.5f}-{val_loss:.5f}-{val_categorical_accuracy:.5f}.h5'\n",
    "filepath = model_name + 'model-{epoch:05d}-{loss:.5f}-{categorical_accuracy:.5f}.h5'\n",
    "\n",
    "checkpoint = ModelCheckpoint(filepath, monitor='val_loss', verbose=1, save_best_only=False, save_weights_only=False, mode='auto',save_freq = num_epochs)\n",
    "\n",
    "# write the REducelronplateau code here\n",
    "LR = ReduceLROnPlateau(monitor='val_loss', factor=0.5, patience=3, min_lr=0.00001, verbose=1) \n",
    "\n",
    "callbacks_list = [checkpoint, LR]"
   ]
  },
  {
   "cell_type": "markdown",
   "metadata": {
    "id": "ypiflP6c9KdK"
   },
   "source": [
    "The `steps_per_epoch` and `validation_steps` are used by `fit` method to decide the number of next() calls it need to make."
   ]
  },
  {
   "cell_type": "code",
   "execution_count": 24,
   "metadata": {
    "executionInfo": {
     "elapsed": 7,
     "status": "ok",
     "timestamp": 1624122928313,
     "user": {
      "displayName": "Deepak Gupta",
      "photoUrl": "https://lh3.googleusercontent.com/a-/AOh14GioGtBsnOL70sw3LSEd5KY4UjSgtKoE99G1emH6UA=s64",
      "userId": "07820557474978127910"
     },
     "user_tz": -330
    },
    "id": "wzhUQSPU9KdK"
   },
   "outputs": [],
   "source": [
    "if (num_train_sequences%batch_size) == 0:\n",
    "    steps_per_epoch = int(num_train_sequences/batch_size)\n",
    "else:\n",
    "    steps_per_epoch = (num_train_sequences//batch_size) + 1\n",
    "\n",
    "if (num_val_sequences%batch_size) == 0:\n",
    "    validation_steps = int(num_val_sequences/batch_size)\n",
    "else:\n",
    "    validation_steps = (num_val_sequences//batch_size) + 1"
   ]
  },
  {
   "cell_type": "markdown",
   "metadata": {
    "id": "54Ej8Ud-9KdL"
   },
   "source": [
    "Let us now fit the model. This will start training the model and with the help of the checkpoints, you'll be able to save the model at the end of each epoch."
   ]
  },
  {
   "cell_type": "code",
   "execution_count": 25,
   "metadata": {
    "colab": {
     "base_uri": "https://localhost:8080/"
    },
    "id": "r-dYbg1x9KdL",
    "outputId": "083da170-9c4c-4fcc-ab35-10b890dd2df5"
   },
   "outputs": [
    {
     "name": "stdout",
     "output_type": "stream",
     "text": [
      "Source path =  /home/datasets/Project_data/train ; batch size = 32\n",
      "Epoch 1/50\n",
      "21/21 [==============================] - ETA: 0s - loss: 1.7671 - categorical_accuracy: 0.2066Source path =  /home/datasets/Project_data/val ; batch size = 32\n",
      "21/21 [==============================] - 78s 4s/step - loss: 1.7671 - categorical_accuracy: 0.2066 - val_loss: 1.6095 - val_categorical_accuracy: 0.2200\n",
      "Epoch 2/50\n",
      "21/21 [==============================] - 80s 4s/step - loss: 1.5977 - categorical_accuracy: 0.2142 - val_loss: 1.6031 - val_categorical_accuracy: 0.2200\n",
      "Epoch 3/50\n",
      " 7/21 [=========>....................] - ETA: 36s - loss: 1.6288 - categorical_accuracy: 0.2277\n",
      "Epoch 00003: saving model to model_init_2021-06-2113_41_10.264439/model-00003-1.62480-0.22656.h5\n",
      "21/21 [==============================] - 78s 4s/step - loss: 1.6124 - categorical_accuracy: 0.2353 - val_loss: 1.6053 - val_categorical_accuracy: 0.1300\n",
      "Epoch 4/50\n",
      "21/21 [==============================] - 76s 4s/step - loss: 1.5851 - categorical_accuracy: 0.2624 - val_loss: 1.4759 - val_categorical_accuracy: 0.2600\n",
      "Epoch 5/50\n",
      "15/21 [====================>.........] - ETA: 18s - loss: 1.4924 - categorical_accuracy: 0.3125\n",
      "Epoch 00005: saving model to model_init_2021-06-2113_41_10.264439/model-00005-1.48985-0.32227.h5\n",
      "21/21 [==============================] - 79s 4s/step - loss: 1.4630 - categorical_accuracy: 0.3333 - val_loss: 1.2741 - val_categorical_accuracy: 0.4500\n",
      "Epoch 6/50\n",
      "21/21 [==============================] - 80s 4s/step - loss: 1.3204 - categorical_accuracy: 0.4419 - val_loss: 1.1232 - val_categorical_accuracy: 0.5700\n",
      "Epoch 7/50\n",
      "21/21 [==============================] - 80s 4s/step - loss: 1.2068 - categorical_accuracy: 0.4796 - val_loss: 0.9201 - val_categorical_accuracy: 0.7200\n",
      "Epoch 8/50\n",
      " 2/21 [=>............................] - ETA: 35s - loss: 1.1305 - categorical_accuracy: 0.4531\n",
      "Epoch 00008: saving model to model_init_2021-06-2113_41_10.264439/model-00008-1.16364-0.46875.h5\n",
      "21/21 [==============================] - 76s 4s/step - loss: 1.1311 - categorical_accuracy: 0.5128 - val_loss: 0.9151 - val_categorical_accuracy: 0.7000\n",
      "Epoch 9/50\n",
      "21/21 [==============================] - 78s 4s/step - loss: 1.0312 - categorical_accuracy: 0.5732 - val_loss: 0.8485 - val_categorical_accuracy: 0.7200\n",
      "Epoch 10/50\n",
      "10/21 [=============>................] - ETA: 32s - loss: 0.9545 - categorical_accuracy: 0.6500\n",
      "Epoch 00010: saving model to model_init_2021-06-2113_41_10.264439/model-00010-0.97402-0.63920.h5\n",
      "21/21 [==============================] - 80s 4s/step - loss: 0.9547 - categorical_accuracy: 0.6214 - val_loss: 0.8464 - val_categorical_accuracy: 0.7200\n",
      "Epoch 11/50\n",
      "21/21 [==============================] - 79s 4s/step - loss: 0.8334 - categorical_accuracy: 0.6833 - val_loss: 0.6826 - val_categorical_accuracy: 0.7300\n",
      "Epoch 12/50\n",
      "18/21 [========================>.....] - ETA: 9s - loss: 0.7726 - categorical_accuracy: 0.6875 \n",
      "Epoch 00012: saving model to model_init_2021-06-2113_41_10.264439/model-00012-0.76550-0.68586.h5\n",
      "21/21 [==============================] - 76s 4s/step - loss: 0.7387 - categorical_accuracy: 0.6983 - val_loss: 0.6060 - val_categorical_accuracy: 0.8200\n",
      "Epoch 13/50\n",
      "21/21 [==============================] - 79s 4s/step - loss: 0.7472 - categorical_accuracy: 0.7164 - val_loss: 0.6493 - val_categorical_accuracy: 0.7900\n",
      "Epoch 14/50\n",
      "21/21 [==============================] - 80s 4s/step - loss: 0.6806 - categorical_accuracy: 0.7330 - val_loss: 0.5702 - val_categorical_accuracy: 0.8300\n",
      "Epoch 15/50\n",
      " 5/21 [======>.......................] - ETA: 45s - loss: 0.7356 - categorical_accuracy: 0.7063\n",
      "Epoch 00015: saving model to model_init_2021-06-2113_41_10.264439/model-00015-0.70378-0.73438.h5\n",
      "21/21 [==============================] - 81s 4s/step - loss: 0.6250 - categorical_accuracy: 0.7602 - val_loss: 0.5549 - val_categorical_accuracy: 0.8200\n",
      "Epoch 16/50\n",
      "21/21 [==============================] - 77s 4s/step - loss: 0.5940 - categorical_accuracy: 0.7406 - val_loss: 0.6092 - val_categorical_accuracy: 0.7600\n",
      "Epoch 17/50\n",
      "13/21 [=================>............] - ETA: 24s - loss: 0.6644 - categorical_accuracy: 0.7668\n",
      "Epoch 00017: saving model to model_init_2021-06-2113_41_10.264439/model-00017-0.65241-0.77455.h5\n",
      "21/21 [==============================] - 78s 4s/step - loss: 0.6354 - categorical_accuracy: 0.7707 - val_loss: 0.5535 - val_categorical_accuracy: 0.8300\n",
      "Epoch 18/50\n",
      "21/21 [==============================] - 79s 4s/step - loss: 0.5048 - categorical_accuracy: 0.7949 - val_loss: 0.5421 - val_categorical_accuracy: 0.8300\n",
      "Epoch 19/50\n",
      "21/21 [==============================] - 80s 4s/step - loss: 0.4870 - categorical_accuracy: 0.8190 - val_loss: 0.6052 - val_categorical_accuracy: 0.8100\n",
      "Epoch 20/50\n",
      "\n",
      "Epoch 00020: saving model to model_init_2021-06-2113_41_10.264439/model-00020-0.35898-0.84375.h5\n",
      "21/21 [==============================] - 77s 4s/step - loss: 0.4730 - categorical_accuracy: 0.8175 - val_loss: 0.5216 - val_categorical_accuracy: 0.8700\n",
      "Epoch 21/50\n",
      "21/21 [==============================] - 80s 4s/step - loss: 0.5167 - categorical_accuracy: 0.8100 - val_loss: 0.5182 - val_categorical_accuracy: 0.8300\n",
      "Epoch 22/50\n",
      " 8/21 [==========>...................] - ETA: 38s - loss: 0.4828 - categorical_accuracy: 0.8125\n",
      "Epoch 00022: saving model to model_init_2021-06-2113_41_10.264439/model-00022-0.48315-0.82292.h5\n",
      "21/21 [==============================] - 80s 4s/step - loss: 0.4510 - categorical_accuracy: 0.8235 - val_loss: 0.4788 - val_categorical_accuracy: 0.8400\n",
      "Epoch 23/50\n",
      "21/21 [==============================] - 81s 4s/step - loss: 0.4505 - categorical_accuracy: 0.8281 - val_loss: 0.3774 - val_categorical_accuracy: 0.8500\n",
      "Epoch 24/50\n",
      "16/21 [=====================>........] - ETA: 14s - loss: 0.4363 - categorical_accuracy: 0.8184\n",
      "Epoch 00024: saving model to model_init_2021-06-2113_41_10.264439/model-00024-0.42334-0.82537.h5\n",
      "21/21 [==============================] - 77s 4s/step - loss: 0.4125 - categorical_accuracy: 0.8296 - val_loss: 0.3948 - val_categorical_accuracy: 0.8700\n",
      "Epoch 25/50\n",
      "21/21 [==============================] - 78s 4s/step - loss: 0.3855 - categorical_accuracy: 0.8446 - val_loss: 0.3871 - val_categorical_accuracy: 0.8800\n",
      "Epoch 26/50\n",
      "21/21 [==============================] - ETA: 0s - loss: 0.3533 - categorical_accuracy: 0.8658\n",
      "Epoch 00026: ReduceLROnPlateau reducing learning rate to 0.0005000000237487257.\n",
      "21/21 [==============================] - 79s 4s/step - loss: 0.3533 - categorical_accuracy: 0.8658 - val_loss: 0.5171 - val_categorical_accuracy: 0.8100\n",
      "Epoch 27/50\n",
      " 3/21 [===>..........................] - ETA: 37s - loss: 0.2907 - categorical_accuracy: 0.8854\n",
      "Epoch 00027: saving model to model_init_2021-06-2113_41_10.264439/model-00027-0.28518-0.89062.h5\n",
      "21/21 [==============================] - 79s 4s/step - loss: 0.3464 - categorical_accuracy: 0.8597 - val_loss: 0.3983 - val_categorical_accuracy: 0.8300\n",
      "Epoch 28/50\n",
      "21/21 [==============================] - 76s 4s/step - loss: 0.3284 - categorical_accuracy: 0.8899 - val_loss: 0.3478 - val_categorical_accuracy: 0.8900\n",
      "Epoch 29/50\n",
      "11/21 [==============>...............] - ETA: 29s - loss: 0.3383 - categorical_accuracy: 0.8608\n",
      "Epoch 00029: saving model to model_init_2021-06-2113_41_10.264439/model-00029-0.33795-0.85677.h5\n",
      "21/21 [==============================] - 80s 4s/step - loss: 0.2854 - categorical_accuracy: 0.8763 - val_loss: 0.5648 - val_categorical_accuracy: 0.8100\n",
      "Epoch 30/50\n",
      "21/21 [==============================] - 79s 4s/step - loss: 0.3189 - categorical_accuracy: 0.8552 - val_loss: 0.4145 - val_categorical_accuracy: 0.9100\n",
      "Epoch 31/50\n",
      "19/21 [==========================>...] - ETA: 6s - loss: 0.2557 - categorical_accuracy: 0.9128\n",
      "Epoch 00031: saving model to model_init_2021-06-2113_41_10.264439/model-00031-0.24873-0.91562.h5\n",
      "21/21 [==============================] - ETA: 0s - loss: 0.2488 - categorical_accuracy: 0.9140\n",
      "Epoch 00031: ReduceLROnPlateau reducing learning rate to 0.0002500000118743628.\n",
      "21/21 [==============================] - 80s 4s/step - loss: 0.2488 - categorical_accuracy: 0.9140 - val_loss: 0.6716 - val_categorical_accuracy: 0.8300\n",
      "Epoch 32/50\n",
      "21/21 [==============================] - 77s 4s/step - loss: 0.2749 - categorical_accuracy: 0.9050 - val_loss: 0.4715 - val_categorical_accuracy: 0.8800\n",
      "Epoch 33/50\n",
      "21/21 [==============================] - 78s 4s/step - loss: 0.2957 - categorical_accuracy: 0.9005 - val_loss: 0.3972 - val_categorical_accuracy: 0.8900\n",
      "Epoch 34/50\n",
      " 6/21 [=======>......................] - ETA: 38s - loss: 0.2556 - categorical_accuracy: 0.8958\n",
      "Epoch 00034: saving model to model_init_2021-06-2113_41_10.264439/model-00034-0.24651-0.90179.h5\n",
      "21/21 [==============================] - 80s 4s/step - loss: 0.2125 - categorical_accuracy: 0.9321 - val_loss: 0.3450 - val_categorical_accuracy: 0.8600\n",
      "Epoch 35/50\n",
      "21/21 [==============================] - 80s 4s/step - loss: 0.2393 - categorical_accuracy: 0.9095 - val_loss: 0.5919 - val_categorical_accuracy: 0.8900\n",
      "Epoch 36/50\n",
      "14/21 [===================>..........] - ETA: 21s - loss: 0.2384 - categorical_accuracy: 0.9241\n",
      "Epoch 00036: saving model to model_init_2021-06-2113_41_10.264439/model-00036-0.23235-0.92500.h5\n",
      "21/21 [==============================] - 78s 4s/step - loss: 0.2432 - categorical_accuracy: 0.9140 - val_loss: 0.4218 - val_categorical_accuracy: 0.8800\n",
      "Epoch 37/50\n",
      "21/21 [==============================] - ETA: 0s - loss: 0.2247 - categorical_accuracy: 0.9005\n",
      "Epoch 00037: ReduceLROnPlateau reducing learning rate to 0.0001250000059371814.\n",
      "21/21 [==============================] - 80s 4s/step - loss: 0.2247 - categorical_accuracy: 0.9005 - val_loss: 0.4187 - val_categorical_accuracy: 0.8900\n",
      "Epoch 38/50\n",
      "21/21 [==============================] - 81s 4s/step - loss: 0.2424 - categorical_accuracy: 0.9186 - val_loss: 0.1900 - val_categorical_accuracy: 0.9200\n",
      "Epoch 39/50\n",
      " 1/21 [>.............................] - ETA: 0s - loss: 0.2128 - categorical_accuracy: 0.9375\n",
      "Epoch 00039: saving model to model_init_2021-06-2113_41_10.264439/model-00039-0.29163-0.89062.h5\n",
      "21/21 [==============================] - 82s 4s/step - loss: 0.2095 - categorical_accuracy: 0.9186 - val_loss: 0.4902 - val_categorical_accuracy: 0.8900\n",
      "Epoch 40/50\n",
      "21/21 [==============================] - 78s 4s/step - loss: 0.2143 - categorical_accuracy: 0.9095 - val_loss: 0.3708 - val_categorical_accuracy: 0.9100\n",
      "Epoch 41/50\n",
      " 9/21 [===========>..................] - ETA: 34s - loss: 0.2005 - categorical_accuracy: 0.9201\n",
      "Epoch 00041: saving model to model_init_2021-06-2113_41_10.264439/model-00041-0.20566-0.92188.h5\n",
      "21/21 [==============================] - ETA: 0s - loss: 0.2130 - categorical_accuracy: 0.9170\n",
      "Epoch 00041: ReduceLROnPlateau reducing learning rate to 6.25000029685907e-05.\n",
      "21/21 [==============================] - 81s 4s/step - loss: 0.2130 - categorical_accuracy: 0.9170 - val_loss: 0.3958 - val_categorical_accuracy: 0.9100\n",
      "Epoch 42/50\n",
      "21/21 [==============================] - 81s 4s/step - loss: 0.2037 - categorical_accuracy: 0.9261 - val_loss: 0.4044 - val_categorical_accuracy: 0.8900\n",
      "Epoch 43/50\n",
      "17/21 [=======================>......] - ETA: 12s - loss: 0.1973 - categorical_accuracy: 0.9301\n",
      "Epoch 00043: saving model to model_init_2021-06-2113_41_10.264439/model-00043-0.19472-0.93229.h5\n",
      "21/21 [==============================] - 82s 4s/step - loss: 0.1933 - categorical_accuracy: 0.9321 - val_loss: 0.4693 - val_categorical_accuracy: 0.9000\n",
      "Epoch 44/50\n",
      "21/21 [==============================] - ETA: 0s - loss: 0.2142 - categorical_accuracy: 0.9170\n",
      "Epoch 00044: ReduceLROnPlateau reducing learning rate to 3.125000148429535e-05.\n",
      "21/21 [==============================] - 78s 4s/step - loss: 0.2142 - categorical_accuracy: 0.9170 - val_loss: 0.3921 - val_categorical_accuracy: 0.9200\n",
      "Epoch 45/50\n",
      "21/21 [==============================] - 82s 4s/step - loss: 0.2291 - categorical_accuracy: 0.9140 - val_loss: 0.3947 - val_categorical_accuracy: 0.9100\n",
      "Epoch 46/50\n",
      " 4/21 [====>.........................] - ETA: 39s - loss: 0.2644 - categorical_accuracy: 0.9141\n",
      "Epoch 00046: saving model to model_init_2021-06-2113_41_10.264439/model-00046-0.24281-0.92500.h5\n",
      "21/21 [==============================] - 81s 4s/step - loss: 0.1790 - categorical_accuracy: 0.9502 - val_loss: 0.3610 - val_categorical_accuracy: 0.8900\n",
      "Epoch 47/50\n",
      "21/21 [==============================] - ETA: 0s - loss: 0.1966 - categorical_accuracy: 0.9382\n",
      "Epoch 00047: ReduceLROnPlateau reducing learning rate to 1.5625000742147677e-05.\n",
      "21/21 [==============================] - 81s 4s/step - loss: 0.1966 - categorical_accuracy: 0.9382 - val_loss: 0.3947 - val_categorical_accuracy: 0.9200\n",
      "Epoch 48/50\n",
      "12/21 [================>.............] - ETA: 26s - loss: 0.2405 - categorical_accuracy: 0.9219\n",
      "Epoch 00048: saving model to model_init_2021-06-2113_41_10.264439/model-00048-0.24114-0.91827.h5\n",
      "21/21 [==============================] - 78s 4s/step - loss: 0.2373 - categorical_accuracy: 0.9186 - val_loss: 0.4278 - val_categorical_accuracy: 0.9100\n",
      "Epoch 49/50\n",
      "21/21 [==============================] - 81s 4s/step - loss: 0.2176 - categorical_accuracy: 0.9110 - val_loss: 0.3564 - val_categorical_accuracy: 0.9300\n",
      "Epoch 50/50\n",
      "20/21 [===========================>..] - ETA: 3s - loss: 0.1786 - categorical_accuracy: 0.9312\n",
      "Epoch 00050: saving model to model_init_2021-06-2113_41_10.264439/model-00050-0.17989-0.92911.h5\n",
      "21/21 [==============================] - ETA: 0s - loss: 0.1799 - categorical_accuracy: 0.9291\n",
      "Epoch 00050: ReduceLROnPlateau reducing learning rate to 1e-05.\n",
      "21/21 [==============================] - 82s 4s/step - loss: 0.1799 - categorical_accuracy: 0.9291 - val_loss: 0.5040 - val_categorical_accuracy: 0.9100\n"
     ]
    }
   ],
   "source": [
    "finalModel = model.fit(train_generator, steps_per_epoch=steps_per_epoch, epochs=num_epochs, verbose=1, \n",
    "                    callbacks=callbacks_list, validation_data=val_generator, \n",
    "                    validation_steps=validation_steps, class_weight=None, workers=1, initial_epoch=0)"
   ]
  },
  {
   "cell_type": "code",
   "execution_count": 30,
   "metadata": {
    "id": "dGEkjtleNy7b"
   },
   "outputs": [
    {
     "data": {
      "image/png": "[encoded data removed]",
      "text/plain": [
       "<Figure size 432x288 with 1 Axes>"
      ]
     },
     "metadata": {
      "needs_background": "light"
     },
     "output_type": "display_data"
    }
   ],
   "source": [
    "#This will help us Visualise chnage in model loss with increasing number of Epochs\n",
    "import matplotlib.pyplot as plt\n",
    "plt.plot(finalModel.history['loss'])\n",
    "plt.plot(finalModel.history['val_loss'])\n",
    "plt.title('Model Loss vs Epoch')\n",
    "plt.ylabel('loss')\n",
    "plt.xlabel('epoch')\n",
    "plt.legend(['train', 'test'], loc=\"right\")\n",
    "plt.show()"
   ]
  },
  {
   "cell_type": "code",
   "execution_count": 29,
   "metadata": {
    "id": "7q1b2MQENy7b"
   },
   "outputs": [
    {
     "data": {
      "image/png": "[encoded data removed]",
      "text/plain": [
       "<Figure size 432x288 with 1 Axes>"
      ]
     },
     "metadata": {
      "needs_background": "light"
     },
     "output_type": "display_data"
    }
   ],
   "source": [
    "#This will help us Visualise chnage in model Accuracy with increasing number of Epochs\n",
    "plt.plot(finalModel.history['categorical_accuracy'])\n",
    "plt.plot(finalModel.history['val_categorical_accuracy'])\n",
    "plt.title('Model Accuracy against Epoch')\n",
    "plt.ylabel('accuracy')\n",
    "plt.xlabel('epoch')\n",
    "plt.legend(['train', 'test'])\n",
    "plt.show()"
   ]
  },
  {
   "cell_type": "code",
   "execution_count": null,
   "metadata": {
    "id": "PtjX18-vNy7c"
   },
   "outputs": [],
   "source": []
  }
 ],
 "metadata": {
  "colab": {
   "collapsed_sections": [],
   "name": "Gesture Jarvis.ipynb",
   "provenance": []
  },
  "kernelspec": {
   "display_name": "Python 3",
   "language": "python",
   "name": "python3"
  },
  "language_info": {
   "codemirror_mode": {
    "name": "ipython",
    "version": 3
   },
   "file_extension": ".py",
   "mimetype": "text/x-python",
   "name": "python",
   "nbconvert_exporter": "python",
   "pygments_lexer": "ipython3",
   "version": "3.8.5"
  }
 },
 "nbformat": 4,
 "nbformat_minor": 4
}
